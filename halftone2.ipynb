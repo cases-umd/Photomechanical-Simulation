{
 "cells": [
  {
   "cell_type": "markdown",
   "id": "proved-walter",
   "metadata": {},
   "source": [
    "# Halftone Code and Exercises\n",
    "\n",
    "In this notebook we create a function that mimics the effect of halftone printing on digital images. Much like the original photomechanical process, the algorithm creates larger black dots when the same area in the original image is darker. It does this by dividing the entire image into small areas and then adding up the darkness values or \"ink\" from the pixels within each these areas. The resulting number is used to determine the size of a simulated ink dot (a black circle) at that position in the resulting image.\n",
    "\n",
    "In order to simulate a wide range of light and dark halftones the resolution of the output image must be significantly larger than the original image resolution. This is because you need to be able to render a range of ink dot sizes, some dots taking up many more pixels than other dots. So each dot area requires a large region in the resulting image, since some dots only use a few pixels, but others large dots will fill most of the region.\n",
    "\n",
    "## Settings\n",
    "There are two important settings that shape the way this algorithm works. The scaling factor (scale) setting is a positive decimal value which will increase the size of the output halftone image by a multiple of the original image resolution, so a scaling factor of two will create a halftone image that is twice the original image size. A higher scaling factor increases output resolution, which allows for a wider range of \"ink dot\" sizes. Scale is also used to simulate different printing contexts. For instance, a higher scaling factor might simulate that a photo was printed on most of a newspaper page, such as a front page image. Smaller scale might simulate an image printed within a column of text, as in an advertisement or an obituary photo.\n",
    "\n",
    "The sampling distance (sample dist) setting is a length, given in pixels. All of the pixels that are within that sampling distance of an ink dot location on the original, not yet scaled up, image are added up to determine the ink dot size. So sampling distance determines the region of pixels that are \"sampled\" by the ink dot size calculation.\n",
    "\n",
    "## Code\n",
    "The code block below defines the Python function for rendering a halftone image from an input image, given a sampling distance and a scaling factor. We will use this function in later demonstrations."
   ]
  },
  {
   "cell_type": "code",
   "execution_count": 1,
   "id": "realistic-plasma",
   "metadata": {},
   "outputs": [
    {
     "name": "stdout",
     "output_type": "stream",
     "text": [
      "Requirement already satisfied: Pillow in /home/jansen/.local/share/virtualenvs/Photomechanical-Simulation-wK_0oItm/lib/python3.10/site-packages (10.2.0)\n",
      "\n",
      "\u001b[1m[\u001b[0m\u001b[34;49mnotice\u001b[0m\u001b[1;39;49m]\u001b[0m\u001b[39;49m A new release of pip is available: \u001b[0m\u001b[31;49m23.3.2\u001b[0m\u001b[39;49m -> \u001b[0m\u001b[32;49m24.0\u001b[0m\n",
      "\u001b[1m[\u001b[0m\u001b[34;49mnotice\u001b[0m\u001b[1;39;49m]\u001b[0m\u001b[39;49m To update, run: \u001b[0m\u001b[32;49mpip install --upgrade pip\u001b[0m\n"
     ]
    }
   ],
   "source": [
    "from PIL import Image, ImageDraw, ImageStat\n",
    "\n",
    "# Adapted from a Stack Overflow answer: https://stackoverflow.com/a/47834501/1600958\n",
    "def halftone(img, sample=8, scale=1, angle=45):\n",
    "    ''' Returns a halftone image created from the given input image `img`.\n",
    "    `sample` (in pixels), determines the sample box size from the original\n",
    "    image. The maximum output dot diameter is given by `sample` * `scale`\n",
    "    (which is also the number of possible dot sizes). So `sample` == 1 will\n",
    "    preserve the original image resolution, but `scale` must be > 1 to allow\n",
    "    variations in dot size.\n",
    "    '''\n",
    "    img_grey = img.convert('L')  # Convert to greyscale.\n",
    "    channel = img_grey.split()[0]  # Get grey pixels.\n",
    "    channel = channel.rotate(angle, expand=1)\n",
    "    size = channel.size[0]*scale, channel.size[1]*scale\n",
    "\n",
    "    bitmap = Image.new('1', size)\n",
    "    draw = ImageDraw.Draw(bitmap)\n",
    "\n",
    "    for x in range(0, channel.size[0], sample):\n",
    "        for y in range(0, channel.size[1], sample):\n",
    "            box = channel.crop((x, y, x+sample, y+sample))\n",
    "            mean = ImageStat.Stat(box).mean[0]\n",
    "            diameter = (mean/255) ** 0.5\n",
    "            edge = 0.5 * (1-diameter)\n",
    "            x_pos, y_pos = (x+edge) * scale, (y+edge) * scale\n",
    "            box_edge = sample * diameter * scale\n",
    "            draw.ellipse((x_pos, y_pos, x_pos+box_edge, y_pos+box_edge),\n",
    "                         fill=255)\n",
    "\n",
    "    bitmap = bitmap.rotate(-angle, expand=1)\n",
    "    width_half, height_half = bitmap.size\n",
    "    xx = (width_half - img.size[0]*scale) / 2\n",
    "    yy = (height_half - img.size[1]*scale) / 2\n",
    "    bitmap = bitmap.crop((xx, yy, xx + img.size[0]*scale,\n",
    "                                  yy + img.size[1]*scale))\n",
    "    return Image.merge('1', [bitmap])\n"
   ]
  },
  {
   "cell_type": "markdown",
   "id": "official-alexander",
   "metadata": {},
   "source": [
    "## Student Exercise: Compare a Scanned Photo with Halftone\n",
    "\n",
    "Let's take the vibrant grayscale image of Michael Jordan making a slam dunk and see how it looks when rendered as a halftone image. We will start out with some high quality default settings for the scale factor and sampling distance. These settings would require a large print area on a newspaper page. After you run the code block below, wait a few seconds for the images to appear, then examine the halftone effect with the default settings. You can also see how big this image would appear on a newspaper page. Note that the quality of the Michael Jordan image overlaid on the newspaper is not representative of halftone, but it gives you a sense of the image's print size. (That newspaper rendering cannot be representative because the simulated ink dots are highly distorted when scaled down smaller than the pixels available on the screen.)\n",
    "\n",
    "Standard US newspaper pages are 15 inches wide and they were normally capable of printing halftone images at 80 dots per inch. Try adjusting the sliders to see the effect of different settings. The image will update a few seconds after you change a setting.\n",
    "\n",
    "To render the image in a single newspaper column, trying a scale factor of 12 and a sampling distance of 5.\n",
    "To render it as a front page image, try a scale factor of 15 and a sampling distance of 1."
   ]
  },
  {
   "cell_type": "code",
   "execution_count": 2,
   "id": "chinese-backup",
   "metadata": {},
   "outputs": [
    {
     "ename": "ModuleNotFoundError",
     "evalue": "No module named 'ipywidgets'",
     "output_type": "error",
     "traceback": [
      "\u001b[0;31m---------------------------------------------------------------------------\u001b[0m",
      "\u001b[0;31mModuleNotFoundError\u001b[0m                       Traceback (most recent call last)",
      "\u001b[1;32m/home/jansen/module_tests/Photomechanical-Simulation/halftone2.ipynb Cell 4\u001b[0m line \u001b[0;36m4\n\u001b[1;32m      <a href='vscode-notebook-cell:/home/jansen/module_tests/Photomechanical-Simulation/halftone2.ipynb#W3sZmlsZQ%3D%3D?line=1'>2</a>\u001b[0m Image\u001b[39m.\u001b[39mMAX_IMAGE_PIXELS \u001b[39m=\u001b[39m \u001b[39mNone\u001b[39;00m  \u001b[39m# We are dealing with a large image from a known source\u001b[39;00m\n\u001b[1;32m      <a href='vscode-notebook-cell:/home/jansen/module_tests/Photomechanical-Simulation/halftone2.ipynb#W3sZmlsZQ%3D%3D?line=2'>3</a>\u001b[0m \u001b[39mfrom\u001b[39;00m \u001b[39mio\u001b[39;00m \u001b[39mimport\u001b[39;00m BytesIO\n\u001b[0;32m----> <a href='vscode-notebook-cell:/home/jansen/module_tests/Photomechanical-Simulation/halftone2.ipynb#W3sZmlsZQ%3D%3D?line=3'>4</a>\u001b[0m \u001b[39mfrom\u001b[39;00m \u001b[39mipywidgets\u001b[39;00m \u001b[39mimport\u001b[39;00m Image \u001b[39mas\u001b[39;00m Image2\n\u001b[1;32m      <a href='vscode-notebook-cell:/home/jansen/module_tests/Photomechanical-Simulation/halftone2.ipynb#W3sZmlsZQ%3D%3D?line=4'>5</a>\u001b[0m \u001b[39mfrom\u001b[39;00m \u001b[39mipywidgets\u001b[39;00m \u001b[39mimport\u001b[39;00m widgets, interact, interactive, fixed, interact_manual\n\u001b[1;32m      <a href='vscode-notebook-cell:/home/jansen/module_tests/Photomechanical-Simulation/halftone2.ipynb#W3sZmlsZQ%3D%3D?line=6'>7</a>\u001b[0m box_layout \u001b[39m=\u001b[39m widgets\u001b[39m.\u001b[39mLayout(display\u001b[39m=\u001b[39m\u001b[39m'\u001b[39m\u001b[39mflex\u001b[39m\u001b[39m'\u001b[39m,\n\u001b[1;32m      <a href='vscode-notebook-cell:/home/jansen/module_tests/Photomechanical-Simulation/halftone2.ipynb#W3sZmlsZQ%3D%3D?line=7'>8</a>\u001b[0m                     flex_flow\u001b[39m=\u001b[39m\u001b[39m'\u001b[39m\u001b[39mrow\u001b[39m\u001b[39m'\u001b[39m,\n\u001b[1;32m      <a href='vscode-notebook-cell:/home/jansen/module_tests/Photomechanical-Simulation/halftone2.ipynb#W3sZmlsZQ%3D%3D?line=8'>9</a>\u001b[0m                     align_items\u001b[39m=\u001b[39m\u001b[39m'\u001b[39m\u001b[39mstretch\u001b[39m\u001b[39m'\u001b[39m,\n\u001b[1;32m     <a href='vscode-notebook-cell:/home/jansen/module_tests/Photomechanical-Simulation/halftone2.ipynb#W3sZmlsZQ%3D%3D?line=9'>10</a>\u001b[0m                     border\u001b[39m=\u001b[39m\u001b[39m'\u001b[39m\u001b[39msolid\u001b[39m\u001b[39m'\u001b[39m,\n\u001b[1;32m     <a href='vscode-notebook-cell:/home/jansen/module_tests/Photomechanical-Simulation/halftone2.ipynb#W3sZmlsZQ%3D%3D?line=10'>11</a>\u001b[0m                     width\u001b[39m=\u001b[39m\u001b[39m'\u001b[39m\u001b[39m100\u001b[39m\u001b[39m%\u001b[39m\u001b[39m'\u001b[39m)\n",
      "\u001b[0;31mModuleNotFoundError\u001b[0m: No module named 'ipywidgets'"
     ]
    }
   ],
   "source": [
    "from PIL import Image\n",
    "Image.MAX_IMAGE_PIXELS = None  # We are dealing with a large image from a known source\n",
    "from io import BytesIO\n",
    "from ipywidgets import Image as Image2\n",
    "from ipywidgets import widgets, interact, interactive, fixed, interact_manual\n",
    "\n",
    "box_layout = widgets.Layout(display='flex',\n",
    "                    flex_flow='row',\n",
    "                    align_items='stretch',\n",
    "                    border='solid',\n",
    "                    width='100%')\n",
    "\n",
    "vbox_layout = widgets.Layout(display='flex',\n",
    "                    flex_flow='column',\n",
    "                    align_items='stretch',\n",
    "                    border='solid',\n",
    "                    width='75%')\n",
    "\n",
    "newspaper_im = Image.open('images/Afro-American_1928.png')\n",
    "def newsprint_overlay(image, dotwidth, zoom=2):\n",
    "    newspaper = newspaper_im.resize((newspaper_im.size[0]*zoom, newspaper_im.size[1]*zoom))\n",
    "    image_size = image.size\n",
    "    new_image = Image.new('RGB',(newspaper.size[0], newspaper.size[1]), (250,250,250))\n",
    "    new_image.paste(newspaper,(0,0))\n",
    "    # newspaper is 15in wide x 80 dpi, = X dots wide\n",
    "    np_dotwidth = 15*80\n",
    "    im_proportion = dotwidth/np_dotwidth\n",
    "    scaled_image = image.resize((int(new_image.size[0]*im_proportion), int(new_image.size[1]*im_proportion)))\n",
    "    new_image.paste(scaled_image,(int(newspaper.size[0]/2),int(newspaper.size[1]/2)))\n",
    "    return new_image\n",
    "\n",
    "def htw(im, scale, sample):\n",
    "    original_out = widgets.Output(layout={'width': '50%', 'border': '1px solid black'})\n",
    "    halftone_out = widgets.Output(layout={'width': '50%', 'border': '1px solid black'})\n",
    "    original_full_out = widgets.Output(layout={'width': '50%', 'height': '50px', 'border': '1px solid black'})\n",
    "    halftone_full_out = widgets.Output(layout={'width': '50%', 'border': '1px solid black'})\n",
    "    newsprint_out = widgets.Output(layout={'width': '100%', 'border': '1px solid black'})\n",
    "    with original_out:\n",
    "        print('Input Image (resized to fit page)')\n",
    "        display(im)\n",
    "    ht = halftone(im, scale=scale, sample=sample)\n",
    "    with halftone_out:\n",
    "        print('Simulated Halftone (resized to fit page)')\n",
    "        display(ht)\n",
    "    with original_full_out:\n",
    "        print('Original image at full resolution')\n",
    "        b = BytesIO()\n",
    "        crop = im.crop((100, 200, 300, 400))\n",
    "        crop = crop.resize((crop.size[0]*scale, crop.size[1]*scale))\n",
    "        display(crop)\n",
    "    with halftone_full_out:\n",
    "        print('Halftone image at full resolution')\n",
    "        b = BytesIO()\n",
    "        crop = ht.crop((100*scale, 200*scale, 300*scale, 400*scale))\n",
    "        display(crop)\n",
    "    with newsprint_out:\n",
    "        im_dotwidth = int(ht.size[0]/(sample*scale))\n",
    "        print('Newsprint Context: Halftone image is %s ink dots wide. Michael Jordan image below is not halftone, but shows print size.'%(im_dotwidth))\n",
    "        display(newsprint_overlay(im, im_dotwidth))\n",
    "    top_box = widgets.HBox([original_out, halftone_out], layout=box_layout)\n",
    "    mid_box = widgets.HBox([original_full_out, halftone_full_out], layout=box_layout)\n",
    "    box = widgets.VBox([top_box, mid_box, newsprint_out], layout=vbox_layout)\n",
    "    display(box)\n",
    "    \n",
    "    \n",
    "original = Image.open('images/Jordan.png')\n",
    "one = interactive(htw, im=fixed(original), \n",
    "                  scale=widgets.IntSlider(description='Scale Factor:',min=1, max=15, step=1, value=15), \n",
    "                  sample=widgets.IntSlider(description='Sample Dist:', min=1, max=10, step=1, value=2))\n",
    "display(one)"
   ]
  },
  {
   "cell_type": "markdown",
   "id": "latin-projector",
   "metadata": {},
   "source": [
    "## Next Step\n",
    "\n",
    "Next explore a simulation of the microfilm archiving photochemical process. Open file [microfilm.ipynb](microfilm.ipynb) to proceed."
   ]
  },
  {
   "cell_type": "code",
   "execution_count": null,
   "id": "multiple-screen",
   "metadata": {},
   "outputs": [],
   "source": []
  }
 ],
 "metadata": {
  "kernelspec": {
   "display_name": "Python 3",
   "language": "python",
   "name": "python3"
  },
  "language_info": {
   "codemirror_mode": {
    "name": "ipython",
    "version": 3
   },
   "file_extension": ".py",
   "mimetype": "text/x-python",
   "name": "python",
   "nbconvert_exporter": "python",
   "pygments_lexer": "ipython3",
   "version": "3.10.12"
  }
 },
 "nbformat": 4,
 "nbformat_minor": 5
}
