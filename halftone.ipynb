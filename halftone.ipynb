{
 "cells": [
  {
   "cell_type": "markdown",
   "id": "sitting-advantage",
   "metadata": {},
   "source": [
    "# Simulating Halftones\n",
    "Let's get started with a fun activity that will give you a feel for halftone images, including in color and black and white. Try visiting [this page](https://pippin.gimp.org/spachrotyzer/) and, if you are comfortable, give that page permission to use your camera. This page converts your camera image into a digital halftone with an algorithm that is run in your browser. (The camera image is not transmitted anywhere.) You can experiment with the various options that are available on that page.\n",
    "\n",
    "Halftone is a photomechanical process that has been implemented in a variety of ways since the 1890s. The first of the dot printing images were made by hand. Later they were created using photographic etching techniques on metal plates. A screen of some kind would be inserted between the camera and the original object, thereby breaking up the image into little pinpricks of light. See the [Wikipedia article](https://en.wikipedia.org/wiki/Halftone) for a deeper explanation of the halftone techniques that have been used for more than a century.\n",
    "\n",
    "### Printing screens, computer screens, and web pages\n",
    "\n",
    "Presenting halftone images via a computer screen is an inherently challenging enterprise. The computer screen is composed of microscopic pixels that vary in both color and brightness. Indeed, we call the computer's display a \"screen\" because they employ a similar screen technique to create an image. In the [television tube](https://en.wikipedia.org/wiki/Cathode-ray_tube) days there was literally a metal screen inside of the television that directed a scanning electron beam at a matching pattern of phosphorous dots. Three electron beam sources were slightly offset in order to land on a pattern of red, blue, and green dots.\n",
    "\n",
    "Whenever you have two screens with similarly sized holes superimposed upon each other, the result is an interference pattern. Also known as the screendoor effect because we commonly see it on a screened porch, this is technically called a [Moiré pattern](https://en.wikipedia.org/wiki/Moir%C3%A9_pattern). Since the computer is a screen and the print halftone is a different screen, when we view halftone on a computer we are effectively looking at the original object or photograph through two superimposed screens. Digitized photographic prints and negatives do not have the same problem, since those images are composed of microscopic chemical grains that have an irregular shape and pattern.\n",
    "\n",
    "Another complication is the web browser and how web pages are rendered to the computer screen. Images are commonly resized before they are displayed on the web browser in order to fit into a particular page layout or screen dimension. This is done so often that it takes some expertise in web styles in order to *prevent* an image from being resized. Resizing is important because it has an exaggerated impact on digital halftone images. Digital halftones use every available pixel to construct images of dots of different sizes. When you shrink a digital halftone, you often will see a faint dot pattern where the original pattern was smooth. This notebook includes a full size sample area of each digital halftone image, because the full size halftone image is much to large to display in a web page."
   ]
  }
 ],
 "metadata": {
  "kernelspec": {
   "display_name": "Python 3",
   "language": "python",
   "name": "python3"
  },
  "language_info": {
   "codemirror_mode": {
    "name": "ipython",
    "version": 3
   },
   "file_extension": ".py",
   "mimetype": "text/x-python",
   "name": "python",
   "nbconvert_exporter": "python",
   "pygments_lexer": "ipython3",
   "version": "3.8.6"
  }
 },
 "nbformat": 4,
 "nbformat_minor": 5
}
